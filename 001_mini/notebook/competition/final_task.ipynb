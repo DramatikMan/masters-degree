{
 "cells": [
  {
   "cell_type": "code",
   "execution_count": 60,
   "id": "490b3e55",
   "metadata": {},
   "outputs": [],
   "source": [
    "from typing import Union\n",
    "from pathlib import Path\n",
    "\n",
    "import pandas as pd\n",
    "import numpy as np\n",
    "import matplotlib.pyplot as plt\n",
    "from sklearn.linear_model import LogisticRegression"
   ]
  },
  {
   "cell_type": "code",
   "execution_count": 62,
   "id": "5a47d98c",
   "metadata": {},
   "outputs": [],
   "source": [
    "''' Helper functions '''\n",
    "\n",
    "\n",
    "def append_from_csv(file: Path, sep: str, train_data: bool) -> None:\n",
    "    try:\n",
    "        df: pd.DataFrame = pd.read_csv(file, sep=sep, dtype=str)\n",
    "    except Exception as ex:\n",
    "#         print(f'{file} :')\n",
    "#         print(ex)\n",
    "        pass\n",
    "    else:\n",
    "        if df.shape[1] == 5:\n",
    "            try:\n",
    "                df = df.applymap(lambda x: str(x).replace(',', '.'))\n",
    "                df['gFx'] = df['gFx'].astype(float)\n",
    "                df['gFy'] = df['gFy'].astype(float)\n",
    "                df['gFz'] = df['gFz'].astype(float)\n",
    "            except Exception as ex:\n",
    "#                 print(f'{file} :')\n",
    "#                 print(ex)\n",
    "                pass\n",
    "            else:\n",
    "                DataFrames.append(df)\n",
    "            \n",
    "                if train_data:\n",
    "                    Types.append(correct_type)\n",
    "                \n",
    "\n",
    "def collect(path: Path, train_data: bool):\n",
    "\n",
    "    type_patterns = {\n",
    "        ('cтояние', 'тояни', 'месте'): {'name': 'стояние', 'id': 0},\n",
    "        ('ходьба', 'одьб', 'аг'): {'name': 'ходьба', 'id': 1},\n",
    "        ('бег'): {'name': 'бег', 'id': 2},\n",
    "        ('велосипед', 'елоси'): {'name': 'велосипед', 'id': 3},\n",
    "        ('лестница', 'естн', 'одъ'): {'name': 'лестница', 'id': 4},\n",
    "        ('автомобиль', 'втомо', 'ашин'): {'name': 'автомобиль', 'id': 5},\n",
    "        ('метро'): {'name': 'метро', 'id': 6},\n",
    "        ('автобус', 'автоб'): {'name': 'автобус', 'id': 7},\n",
    "        ('самокат', 'амок'): {'name': 'самокат', 'id': 8}\n",
    "    }\n",
    "\n",
    "    DataFrames: list[pd.DataFrame] = []\n",
    "    \n",
    "    if train_data:\n",
    "        Types: list[int] = []\n",
    "\n",
    "    for sub_path in public_data_path.iterdir():\n",
    "\n",
    "        if sub_path.is_file():\n",
    "            \n",
    "            if train_data:\n",
    "\n",
    "                try:\n",
    "                    type_str = str(sub_path.name).split('_')[-2]\n",
    "                except IndexError:\n",
    "                    continue\n",
    "                else:\n",
    "                    correct_type = int()\n",
    "\n",
    "                    for key, value in type_patterns.items():\n",
    "                        if type_str.lower() in key:\n",
    "                            correct_type = value['id']\n",
    "\n",
    "                    if correct_type not in range(9):\n",
    "                        raise ValueError(f'Ошибка при определении типа движения. {type_str = }')\n",
    "\n",
    "            append_from_csv(sub_path, ',', train_data)\n",
    "            append_from_csv(sub_path, ';', train_data)\n",
    "            \n",
    "    if train_data:\n",
    "        return DataFrames, Types\n",
    "    else:\n",
    "        return DataFrames\n",
    "            \n",
    "                \n",
    "def process_frame(df: pd.DataFrame, label: int) -> pd.Series:\n",
    "    start = int(0.2 * len(df))\n",
    "    end = -int(0.2 * len(df))\n",
    "\n",
    "#     x_mean = np.mean(df.gFx[start:end])\n",
    "#     y_mean = np.mean(df.gFy[start:end])\n",
    "#     z_mean = np.mean(df.gFz[start:end])\n",
    "    \n",
    "#     return pd.Series(\n",
    "#         [x_mean, y_mean, z_mean, label],\n",
    "#         index=['x_mean', 'y_mean', 'z_mean', 'label']\n",
    "#     )\n",
    "    \n",
    "    accel = np.log(np.std((df.gFx[start:end] ** 2 + df.gFy[start:end] ** 2 + df.gFz[start:end] ** 2) ** 0.5))\n",
    "    \n",
    "    return pd.Series(\n",
    "        [accel, label],\n",
    "        index=['accel', 'label']\n",
    "    )"
   ]
  },
  {
   "cell_type": "code",
   "execution_count": 63,
   "id": "ebe24128",
   "metadata": {},
   "outputs": [],
   "source": [
    "''' Сбор данных из файлов c разметкой типов '''\n",
    "\n",
    "\n",
    "train_data_path = Path('./public_data')\n",
    "test_data_path = Path('./kaggle_data_open')\n",
    "\n",
    "\n",
    "train_data, train_labels = collect(train_data_path, True)\n",
    "test_data = collect(test_data_path, False)"
   ]
  },
  {
   "cell_type": "code",
   "execution_count": 55,
   "id": "a1922842",
   "metadata": {},
   "outputs": [],
   "source": [
    "train_simple = pd.DataFrame(columns=['accel', 'label'])\n",
    "train_advanced = pd.DataFrame(columns=['accel', 'label'])\n",
    "\n",
    "\n",
    "for frame, label in zip(DataFrames, Types):\n",
    "    \n",
    "    if label in (0, 1, 2, 3, 4):\n",
    "        train_simple = train_simple.append(process_frame(frame, label), ignore_index=True)\n",
    "        \n",
    "    if label in (5, 6, 7, 8):\n",
    "        train_advanced = train_advanced.append(process_frame(frame, label), ignore_index=True)"
   ]
  },
  {
   "cell_type": "code",
   "execution_count": 57,
   "id": "b9ae56fe",
   "metadata": {},
   "outputs": [],
   "source": [
    "X_simple = np.array(train_simple.accel).reshape(-1, 1)\n",
    "y_simple = train_simple.label\n",
    "\n",
    "X_advanced = np.array(train_advanced.accel).reshape(-1, 1)\n",
    "y_advanced = train_advanced.label\n",
    "\n",
    "model_simple = LogisticRegression().fit(X_simple, y_simple)\n",
    "model_advanced = LogisticRegression().fit(X_advanced, y_advanced)"
   ]
  },
  {
   "cell_type": "code",
   "execution_count": 58,
   "id": "3b3194be",
   "metadata": {},
   "outputs": [
    {
     "data": {
      "text/plain": [
       "0.616519174041298"
      ]
     },
     "execution_count": 58,
     "metadata": {},
     "output_type": "execute_result"
    }
   ],
   "source": [
    "model_simple.score(X_simple, y_simple)"
   ]
  },
  {
   "cell_type": "code",
   "execution_count": 59,
   "id": "bcf39d22",
   "metadata": {},
   "outputs": [
    {
     "data": {
      "text/plain": [
       "0.5"
      ]
     },
     "execution_count": 59,
     "metadata": {},
     "output_type": "execute_result"
    }
   ],
   "source": [
    "model_advanced.score(X_advanced, y_advanced)"
   ]
  }
 ],
 "metadata": {
  "kernelspec": {
   "display_name": "Python 3 (ipykernel)",
   "language": "python",
   "name": "python3"
  },
  "language_info": {
   "codemirror_mode": {
    "name": "ipython",
    "version": 3
   },
   "file_extension": ".py",
   "mimetype": "text/x-python",
   "name": "python",
   "nbconvert_exporter": "python",
   "pygments_lexer": "ipython3",
   "version": "3.9.6"
  }
 },
 "nbformat": 4,
 "nbformat_minor": 5
}
