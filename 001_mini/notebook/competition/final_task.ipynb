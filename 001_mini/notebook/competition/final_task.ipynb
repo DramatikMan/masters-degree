{
 "cells": [
  {
   "cell_type": "code",
   "execution_count": 1,
   "id": "490b3e55",
   "metadata": {},
   "outputs": [],
   "source": [
    "from pathlib import Path\n",
    "\n",
    "import pandas as pd"
   ]
  },
  {
   "cell_type": "code",
   "execution_count": 2,
   "id": "71db185c",
   "metadata": {},
   "outputs": [
    {
     "ename": "NameError",
     "evalue": "name 'type_name' is not defined",
     "output_type": "error",
     "traceback": [
      "\u001b[0;31m---------------------------------------------------------------------------\u001b[0m",
      "\u001b[0;31mNameError\u001b[0m                                 Traceback (most recent call last)",
      "\u001b[0;32m/tmp/ipykernel_122/677260040.py\u001b[0m in \u001b[0;36m<module>\u001b[0;34m\u001b[0m\n\u001b[1;32m     45\u001b[0m             \u001b[0;32mif\u001b[0m \u001b[0mdf\u001b[0m\u001b[0;34m.\u001b[0m\u001b[0mshape\u001b[0m\u001b[0;34m[\u001b[0m\u001b[0;36m1\u001b[0m\u001b[0;34m]\u001b[0m \u001b[0;34m==\u001b[0m \u001b[0;36m5\u001b[0m\u001b[0;34m:\u001b[0m\u001b[0;34m\u001b[0m\u001b[0;34m\u001b[0m\u001b[0m\n\u001b[1;32m     46\u001b[0m                 \u001b[0mDataFrames\u001b[0m\u001b[0;34m.\u001b[0m\u001b[0mappend\u001b[0m\u001b[0;34m(\u001b[0m\u001b[0mdf\u001b[0m\u001b[0;34m)\u001b[0m\u001b[0;34m\u001b[0m\u001b[0;34m\u001b[0m\u001b[0m\n\u001b[0;32m---> 47\u001b[0;31m                 \u001b[0mTypes\u001b[0m\u001b[0;34m.\u001b[0m\u001b[0mappend\u001b[0m\u001b[0;34m(\u001b[0m\u001b[0mtype_name\u001b[0m\u001b[0;34m)\u001b[0m\u001b[0;34m\u001b[0m\u001b[0;34m\u001b[0m\u001b[0m\n\u001b[0m\u001b[1;32m     48\u001b[0m \u001b[0;34m\u001b[0m\u001b[0m\n\u001b[1;32m     49\u001b[0m         \u001b[0;32mtry\u001b[0m\u001b[0;34m:\u001b[0m\u001b[0;34m\u001b[0m\u001b[0;34m\u001b[0m\u001b[0m\n",
      "\u001b[0;31mNameError\u001b[0m: name 'type_name' is not defined"
     ]
    }
   ],
   "source": [
    "''' Сбор данных из файлов c разметкой типов '''\n",
    "\n",
    "type_patterns = {\n",
    "    ('cтояние', 'тояни', 'месте'): {'name': 'стояние', 'id': 0},\n",
    "    ('ходьба', 'одьб', 'аг'): {'name': 'ходьба', 'id': 1},\n",
    "    ('бег'): {'name': 'бег', 'id': 2},\n",
    "    ('велосипед', 'елоси'): {'name': 'велосипед', 'id': 3},\n",
    "    ('лестница', 'естн', 'одъ'): {'name': 'лестница', 'id': 4},\n",
    "    ('автомобиль', 'втомо', 'ашин'): {'name': 'автомобиль', 'id': 5},\n",
    "    ('метро'): {'name': 'метро', 'id': 6},\n",
    "    ('автобус', 'автоб'): {'name': 'автобус', 'id': 7},\n",
    "    ('самокат', 'амок'): {'name': 'самокат', 'id': 8}\n",
    "}\n",
    "\n",
    "DataFrames: list[pd.DataFrame] = []\n",
    "Types: list[int] = []\n",
    "\n",
    "public_data_path = Path('./public_data')\n",
    "\n",
    "\n",
    "for sub_path in public_data_path.iterdir():\n",
    "        \n",
    "    if sub_path.is_file():\n",
    "\n",
    "        try:\n",
    "            type_str = str(sub_path.name).split('_')[-2]\n",
    "        except IndexError:\n",
    "            continue\n",
    "        else:\n",
    "            correct_type = int()\n",
    "            \n",
    "            for key, value in type_patterns.items():\n",
    "                if type_str.lower() in key:\n",
    "                    correct_type = value['id']\n",
    "                    \n",
    "            if correct_type not in range(9):\n",
    "                raise ValueError(f'Ошибка при определении типа движения. {type_str = }')\n",
    "\n",
    "        try:\n",
    "            df = pd.read_csv(sub_path, sep=';')\n",
    "        except Exception as ex:\n",
    "#             print(f'semicolon ### path = {sub_path.name}')\n",
    "            pass\n",
    "        else:\n",
    "            if df.shape[1] == 5:\n",
    "                DataFrames.append(df)\n",
    "                Types.append(type_name)\n",
    "\n",
    "        try:\n",
    "            df = pd.read_csv(sub_path, sep=',')\n",
    "        except Exception as ex:\n",
    "#             print(f'comma ### path = {sub_path.name}')\n",
    "            pass\n",
    "        else:\n",
    "            if df.shape[1] == 5:\n",
    "                DataFrames.append(df)\n",
    "                Types.append(type_name)"
   ]
  },
  {
   "cell_type": "code",
   "execution_count": null,
   "id": "134a2654",
   "metadata": {},
   "outputs": [],
   "source": [
    "len(DataFrames)"
   ]
  }
 ],
 "metadata": {
  "kernelspec": {
   "display_name": "Python 3 (ipykernel)",
   "language": "python",
   "name": "python3"
  },
  "language_info": {
   "codemirror_mode": {
    "name": "ipython",
    "version": 3
   },
   "file_extension": ".py",
   "mimetype": "text/x-python",
   "name": "python",
   "nbconvert_exporter": "python",
   "pygments_lexer": "ipython3",
   "version": "3.9.6"
  }
 },
 "nbformat": 4,
 "nbformat_minor": 5
}
