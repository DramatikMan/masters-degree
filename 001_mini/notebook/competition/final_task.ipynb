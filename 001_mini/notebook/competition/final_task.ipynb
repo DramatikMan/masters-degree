{
 "cells": [
  {
   "cell_type": "code",
   "execution_count": 1,
   "id": "490b3e55",
   "metadata": {},
   "outputs": [],
   "source": [
    "from pathlib import Path\n",
    "\n",
    "import pandas as pd"
   ]
  },
  {
   "cell_type": "code",
   "execution_count": 2,
   "id": "71db185c",
   "metadata": {},
   "outputs": [
    {
     "name": "stdout",
     "output_type": "stream",
     "text": [
      "public_data/dimiii - буба_велосипед_1.csv :\n",
      "Error tokenizing data. C error: Expected 5 fields in line 103530, saw 8\n",
      "\n",
      "public_data/Alina Arslanova - Арсланова_поездки в автомобиле_4.cpgz :\n",
      "'utf-8' codec can't decode byte 0x8b in position 1: invalid start byte\n",
      "public_data/Alina Arslanova - Арсланова_поездки в автомобиле_4.cpgz :\n",
      "'utf-8' codec can't decode byte 0x8b in position 1: invalid start byte\n"
     ]
    }
   ],
   "source": [
    "''' Сбор данных из файлов c разметкой типов '''\n",
    "\n",
    "type_patterns = {\n",
    "    ('cтояние', 'тояни', 'месте'): {'name': 'стояние', 'id': 0},\n",
    "    ('ходьба', 'одьб', 'аг'): {'name': 'ходьба', 'id': 1},\n",
    "    ('бег'): {'name': 'бег', 'id': 2},\n",
    "    ('велосипед', 'елоси'): {'name': 'велосипед', 'id': 3},\n",
    "    ('лестница', 'естн', 'одъ'): {'name': 'лестница', 'id': 4},\n",
    "    ('автомобиль', 'втомо', 'ашин'): {'name': 'автомобиль', 'id': 5},\n",
    "    ('метро'): {'name': 'метро', 'id': 6},\n",
    "    ('автобус', 'автоб'): {'name': 'автобус', 'id': 7},\n",
    "    ('самокат', 'амок'): {'name': 'самокат', 'id': 8}\n",
    "}\n",
    "\n",
    "DataFrames: list[pd.DataFrame] = []\n",
    "Types: list[int] = []\n",
    "public_data_path = Path('./public_data')\n",
    "\n",
    "\n",
    "def append_from_csv(file: Path, sep: str) -> None:\n",
    "    try:\n",
    "        df: pd.DataFrame = pd.read_csv(file, sep=sep, dtype=str)\n",
    "    except Exception as ex:\n",
    "        print(f'{file} :')\n",
    "        print(ex)\n",
    "    else:\n",
    "        if df.shape[1] == 5:\n",
    "            try:\n",
    "                df.applymap(lambda x: str(x).replace(',', '.'))\n",
    "            except Exception as ex:\n",
    "                print(f'{file} :')\n",
    "                print(ex)\n",
    "            else:\n",
    "                DataFrames.append(df)\n",
    "                Types.append(correct_type)\n",
    "\n",
    "\n",
    "for sub_path in public_data_path.iterdir():\n",
    "        \n",
    "    if sub_path.is_file():\n",
    "\n",
    "        try:\n",
    "            type_str = str(sub_path.name).split('_')[-2]\n",
    "        except IndexError:\n",
    "            continue\n",
    "        else:\n",
    "            correct_type = int()\n",
    "            \n",
    "            for key, value in type_patterns.items():\n",
    "                if type_str.lower() in key:\n",
    "                    correct_type = value['id']\n",
    "                    \n",
    "            if correct_type not in range(9):\n",
    "                raise ValueError(f'Ошибка при определении типа движения. {type_str = }')\n",
    "\n",
    "        append_from_csv(sub_path, ',')\n",
    "        append_from_csv(sub_path, ';')"
   ]
  }
 ],
 "metadata": {
  "kernelspec": {
   "display_name": "Python 3 (ipykernel)",
   "language": "python",
   "name": "python3"
  },
  "language_info": {
   "codemirror_mode": {
    "name": "ipython",
    "version": 3
   },
   "file_extension": ".py",
   "mimetype": "text/x-python",
   "name": "python",
   "nbconvert_exporter": "python",
   "pygments_lexer": "ipython3",
   "version": "3.9.6"
  }
 },
 "nbformat": 4,
 "nbformat_minor": 5
}
